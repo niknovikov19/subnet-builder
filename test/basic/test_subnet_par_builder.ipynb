{
 "cells": [
  {
   "cell_type": "code",
   "execution_count": 9,
   "id": "b2bae4e4",
   "metadata": {},
   "outputs": [
    {
     "name": "stdout",
     "output_type": "stream",
     "text": [
      "Copy active pops...\n",
      "Copy stim. sources and targets...\n"
     ]
    }
   ],
   "source": [
    "import json\n",
    "\n",
    "from subnet_tuner import SubnetParamBuilder2, SubnetDesc\n",
    "\n",
    "\n",
    "par = {}\n",
    "par['popParams'] = {}\n",
    "par['connParams'] = {}\n",
    "par['meta'] = 'META'\n",
    "\n",
    "# Populations\n",
    "# P0, P1, P2, P3 with celltype C0\n",
    "# P4, P5, P6, P7 with celltype C1\n",
    "for n in range(8):\n",
    "    par['popParams'][f'P{n}'] = {\n",
    "        'cellModel': 'HH', 'ynormRange': (-n ,n), 'density': n * 10}\n",
    "for n in range(0, 4):\n",
    "    par['popParams'][f'P{n}']['cellType'] = 'C0'\n",
    "for n in range(4, 8):\n",
    "    par['popParams'][f'P{n}']['cellType'] = 'C1'\n",
    "\n",
    "# Connections\n",
    "par['connParams']['C0->P4'] = {\n",
    "    'preConds': {'cellType': 'C0'}, 'postConds': {'pop': 'P4'}, 'weight': -0.4}\n",
    "par['connParams']['P0->C1'] = {\n",
    "    'preConds': {'pop': 'P0'}, 'postConds': {'cellType': 'C1'}, 'weight': -0.1}\n",
    "par['connParams']['P1->P5'] = {\n",
    "    'preConds': {'pop': 'P1'}, 'postConds': {'pop': 'P5'}, 'weight': 1.5}\n",
    "par['connParams']['P5->P1'] = {\n",
    "    'preConds': {'pop': 'P5'}, 'postConds': {'pop': 'P1'}, 'weight': 5.1}\n",
    "par['connParams']['P23->P67'] = {\n",
    "    'preConds': {'pop': ['P2', 'P3']}, 'postConds': {'pop': ['P6', 'P7']}, 'weight': 23.67}\n",
    "par['connParams']['P6->P23'] = {\n",
    "    'preConds': {'pop': 'P6'}, 'postConds': {'pop': ['P2', 'P3']}, 'weight': 6.23}\n",
    "par['connParams']['P67->P3'] = {\n",
    "    'preConds': {'pop': ['P6', 'P7']}, 'postConds': {'pop': 'P3'}, 'weight': 67.3}\n",
    "\n",
    "# Subnet description\n",
    "desc = SubnetDesc()\n",
    "desc.pops_active = ['P0', 'P7', 'P3']\n",
    "desc.conns_frozen = []\n",
    "for n in range(8):\n",
    "    desc.inp_surrogates[f'P{n}'] = {'type': 'irregular', 'rate': n * 100}\n",
    "desc.duplicate_active_pops = True\n",
    "\n",
    "# Build subnet\n",
    "spb = SubnetParamBuilder2()\n",
    "par_sub = spb.build(par, desc)\n",
    "\n",
    "with open('par.json', 'w') as f:\n",
    "    json.dump(par, f, indent=4)\n",
    "with open('par_sub.json', 'w') as f:\n",
    "    json.dump(par_sub, f, indent=4)"
   ]
  },
  {
   "cell_type": "code",
   "execution_count": 10,
   "id": "84d6fd08",
   "metadata": {},
   "outputs": [
    {
     "name": "stdout",
     "output_type": "stream",
     "text": [
      "{'P0->C1': {'presyn': {'P0': {'frozen': 'P0frz', 'orig': 'P0'}}},\n",
      " 'P23->P67': {'presyn': {'P2': {'frozen': 'P2frz', 'orig': None},\n",
      "                         'P3': {'frozen': 'P3frz', 'orig': 'P3'}}},\n",
      " 'P6->P23': {'presyn': {'P6': {'frozen': 'P6frz', 'orig': None}}},\n",
      " 'P67->P3': {'presyn': {'P6': {'frozen': 'P6frz', 'orig': None},\n",
      "                        'P7': {'frozen': 'P7frz', 'orig': 'P7'}}}}\n"
     ]
    }
   ],
   "source": [
    "from pprint import pprint\n",
    "pprint(spb.conns_info)"
   ]
  },
  {
   "cell_type": "code",
   "execution_count": 11,
   "id": "aa51948b",
   "metadata": {},
   "outputs": [
    {
     "name": "stdout",
     "output_type": "stream",
     "text": [
      "P0->C1 [pre: P0] - ON\n",
      "P0->C1 [pre: P0frz] - OFF\n",
      "P23->P67 [pre: P3] - ON\n",
      "P23->P67 [pre: P3frz] - OFF\n",
      "P67->P3 [pre: P7] - ON\n",
      "P67->P3 [pre: P7frz] - OFF\n",
      "--------\n",
      "P0->C1 [pre: P0] - OFF\n",
      "P0->C1 [pre: P0frz] - ON\n",
      "P23->P67 [pre: P3] - OFF\n",
      "P23->P67 [pre: P3frz] - ON\n",
      "P67->P3 [pre: P7] - OFF\n",
      "P67->P3 [pre: P7frz] - ON\n"
     ]
    }
   ],
   "source": [
    "spb.switch_active_conns(True)\n",
    "print('--------')\n",
    "spb.switch_active_conns(False)"
   ]
  },
  {
   "cell_type": "code",
   "execution_count": 3,
   "id": "14761928",
   "metadata": {},
   "outputs": [
    {
     "data": {
      "text/plain": [
       "{'NGF1': 20.1,\n",
       " 'NGF2': 20.2,\n",
       " 'NGF3': 20.3,\n",
       " 'NGF4': 20.4,\n",
       " 'NGF5A': 20.5,\n",
       " 'NGF5B': 20.55,\n",
       " 'NGF6': 20.6,\n",
       " 'SOM2': 5.2,\n",
       " 'SOM3': 5.3,\n",
       " 'SOM4': 5.4,\n",
       " 'SOM5A': 5.5,\n",
       " 'SOM5B': 5.55,\n",
       " 'SOM6': 5.6,\n",
       " 'PV2': 10.2,\n",
       " 'PV3': 10.3,\n",
       " 'PV4': 10.4,\n",
       " 'PV5A': 10.5,\n",
       " 'PV5B': 10.55,\n",
       " 'PV6': 10.6,\n",
       " 'VIP2': 15.2,\n",
       " 'VIP3': 15.3,\n",
       " 'VIP4': 15.4,\n",
       " 'VIP5A': 15.5,\n",
       " 'VIP5B': 15.55,\n",
       " 'VIP6': 15.6,\n",
       " 'IT2': 2.2,\n",
       " 'IT3': 2.3,\n",
       " 'IT5A': 2.5,\n",
       " 'IT5B': 2.55,\n",
       " 'IT6': 2.6,\n",
       " 'ITP4': 2.4,\n",
       " 'ITS4': 5.0,\n",
       " 'CT5A': 2.5,\n",
       " 'CT5B': 2.55,\n",
       " 'CT6': 2.6,\n",
       " 'PT5B': 4.55,\n",
       " 'TC': 10.0,\n",
       " 'TCM': 10.1,\n",
       " 'HTC': 10.2,\n",
       " 'IRE': 10.3,\n",
       " 'IREM': 10.4,\n",
       " 'TI': 10.5,\n",
       " 'TIM': 10.6}"
      ]
     },
     "execution_count": 3,
     "metadata": {},
     "output_type": "execute_result"
    }
   ],
   "source": [
    "import pandas as pd\n",
    "\n",
    "fpath_in = r'D:\\WORK\\Salvador\\repo\\subnet_tuner\\test\\A1_OUinp\\target_rates.csv'\n",
    "\n",
    "target_rates = pd.read_csv(fpath_in)\n",
    "target_rates.set_index('pop_name')['target_rate'].to_dict()"
   ]
  }
 ],
 "metadata": {
  "kernelspec": {
   "display_name": "Python 3",
   "language": "python",
   "name": "python3"
  },
  "language_info": {
   "codemirror_mode": {
    "name": "ipython",
    "version": 3
   },
   "file_extension": ".py",
   "mimetype": "text/x-python",
   "name": "python",
   "nbconvert_exporter": "python",
   "pygments_lexer": "ipython3",
   "version": "3.10.14"
  }
 },
 "nbformat": 4,
 "nbformat_minor": 5
}
