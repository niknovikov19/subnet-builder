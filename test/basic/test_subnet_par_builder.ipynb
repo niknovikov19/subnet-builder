{
 "cells": [
  {
   "cell_type": "code",
   "execution_count": 1,
   "id": "b2bae4e4",
   "metadata": {},
   "outputs": [
    {
     "name": "stdout",
     "output_type": "stream",
     "text": [
      "Copy active pops...\n",
      "Copy connections...\n",
      "Copy stim. targets...\n"
     ]
    }
   ],
   "source": [
    "import json\n",
    "\n",
    "from subnet_tuner.subnet_par_builder import SubnetParamBuilder, SubnetDesc\n",
    "\n",
    "\n",
    "par = {}\n",
    "par['popParams'] = {}\n",
    "par['connParams'] = {}\n",
    "par['meta'] = 'META'\n",
    "\n",
    "# Populations\n",
    "# P0, P1, P2, P3 with celltype C0\n",
    "# P4, P5, P6, P7 with celltype C1\n",
    "for n in range(8):\n",
    "    par['popParams'][f'P{n}'] = {\n",
    "        'cellModel': 'HH', 'ynormRange': (-n ,n), 'density': n * 10}\n",
    "for n in range(0, 4):\n",
    "    par['popParams'][f'P{n}']['cellType'] = 'C0'\n",
    "for n in range(4, 8):\n",
    "    par['popParams'][f'P{n}']['cellType'] = 'C1'\n",
    "\n",
    "# Connections\n",
    "par['connParams']['C0->P4'] = {\n",
    "    'preConds': {'cellType': 'C0'}, 'postConds': {'pop': 'P4'}, 'weight': -0.4}\n",
    "par['connParams']['P0->C1'] = {\n",
    "    'preConds': {'pop': 'P0'}, 'postConds': {'cellType': 'C1'}, 'weight': -0.1}\n",
    "par['connParams']['P1->P5'] = {\n",
    "    'preConds': {'pop': 'P1'}, 'postConds': {'pop': 'P5'}, 'weight': 1.5}\n",
    "par['connParams']['P5->P1'] = {\n",
    "    'preConds': {'pop': 'P5'}, 'postConds': {'pop': 'P1'}, 'weight': 5.1}\n",
    "par['connParams']['P23->P67'] = {\n",
    "    'preConds': {'pop': ['P2', 'P3']}, 'postConds': {'pop': ['P6', 'P7']}, 'weight': 23.67}\n",
    "par['connParams']['P6->P23'] = {\n",
    "    'preConds': {'pop': 'P6'}, 'postConds': {'pop': ['P2', 'P3']}, 'weight': 6.23}\n",
    "par['connParams']['P67->P3'] = {\n",
    "    'preConds': {'pop': ['P6', 'P7']}, 'postConds': {'pop': 'P3'}, 'weight': 67.3}\n",
    "\n",
    "# Subnet description\n",
    "desc = SubnetDesc()\n",
    "desc.pops_active = ['P0', 'P1', 'P3']\n",
    "desc.conns_frozen = []\n",
    "for n in range(8):\n",
    "    desc.inp_surrogates[f'P{n}'] = {'type': 'irregular', 'rate': n * 100}\n",
    "\n",
    "# Build subnet\n",
    "spb = SubnetParamBuilder()\n",
    "par_sub = spb.build(par, desc)\n",
    "\n",
    "with open('par.json', 'w') as f:\n",
    "    json.dump(par, f, indent=4)\n",
    "with open('par_sub.json', 'w') as f:\n",
    "    json.dump(par_sub, f, indent=4)"
   ]
  },
  {
   "cell_type": "code",
   "execution_count": null,
   "id": "14761928",
   "metadata": {},
   "outputs": [],
   "source": [
    "par_sub['popParams'].keys()"
   ]
  }
 ],
 "metadata": {
  "kernelspec": {
   "display_name": "netpyne_batch",
   "language": "python",
   "name": "python3"
  },
  "language_info": {
   "codemirror_mode": {
    "name": "ipython",
    "version": 3
   },
   "file_extension": ".py",
   "mimetype": "text/x-python",
   "name": "python",
   "nbconvert_exporter": "python",
   "pygments_lexer": "ipython3",
   "version": "3.10.14"
  }
 },
 "nbformat": 4,
 "nbformat_minor": 5
}
