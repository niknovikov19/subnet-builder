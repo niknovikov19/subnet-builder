{
 "cells": [
  {
   "cell_type": "code",
   "execution_count": 5,
   "id": "35feaaef",
   "metadata": {},
   "outputs": [
    {
     "data": {
      "text/plain": [
       "dict_keys(['pop_names', 'Ru', 'Rc', 'Ru_mat_mixed', 'Rc_mat_mixed', 'pfr', 'uc_mapper'])"
      ]
     },
     "execution_count": 5,
     "metadata": {},
     "output_type": "execute_result"
    }
   ],
   "source": [
    "from pathlib import Path\n",
    "import pickle\n",
    "\n",
    "fpath_res = (r'D:\\WORK\\Salvador\\repo\\model_tuner\\test_data\\main\\test_opt_A1_hpc_batch_qsub'\n",
    "             r'\\experiments\\test_3_pfr=(0.4_1.0_4)_wmult=0.02_alpha=1_autosz\\info\\Ru_Rc_req_10_3.pkl')\n",
    "with open(fpath_res, 'rb') as file:\n",
    "    data = pickle.load(file)\n",
    "\n",
    "data.keys()"
   ]
  },
  {
   "cell_type": "code",
   "execution_count": 11,
   "id": "b80a87e4",
   "metadata": {},
   "outputs": [],
   "source": [
    "import numpy as np\n",
    "import pandas as pd\n",
    "\n",
    "rr = data['Rc'].sel(pfr=1).isel(iter=-1)   # final rates\n",
    "\n",
    "# Create a DataFrame with pop_name and target_rate\n",
    "df_rr = pd.DataFrame({\n",
    "    'pop_name': rr.coords['pop'],\n",
    "    'target_rate': np.round(rr.values, 1)\n",
    "})\n",
    "\n",
    "# Save to CSV\n",
    "dirpath_base = Path(r'D:\\WORK\\Salvador\\repo\\subnet_tuner\\test\\A1_OUinp\\g_ouinp_wmult_0.02')\n",
    "df_rr.to_csv(dirpath_base / 'target_rates.csv', index=False)"
   ]
  },
  {
   "cell_type": "code",
   "execution_count": null,
   "id": "58116bc4",
   "metadata": {},
   "outputs": [],
   "source": []
  },
  {
   "cell_type": "code",
   "execution_count": null,
   "id": "6e988ef5",
   "metadata": {},
   "outputs": [],
   "source": []
  },
  {
   "cell_type": "code",
   "execution_count": null,
   "id": "dbad3262",
   "metadata": {},
   "outputs": [],
   "source": []
  },
  {
   "cell_type": "code",
   "execution_count": null,
   "id": "758ab49f",
   "metadata": {},
   "outputs": [],
   "source": []
  },
  {
   "cell_type": "code",
   "execution_count": null,
   "id": "12b3c22c",
   "metadata": {},
   "outputs": [],
   "source": []
  },
  {
   "cell_type": "code",
   "execution_count": null,
   "id": "9b354231",
   "metadata": {},
   "outputs": [],
   "source": []
  },
  {
   "cell_type": "code",
   "execution_count": null,
   "id": "71632fb2",
   "metadata": {},
   "outputs": [],
   "source": []
  },
  {
   "cell_type": "code",
   "execution_count": null,
   "id": "3dbe45c7",
   "metadata": {},
   "outputs": [],
   "source": []
  },
  {
   "cell_type": "code",
   "execution_count": null,
   "id": "0567c47e",
   "metadata": {},
   "outputs": [],
   "source": []
  }
 ],
 "metadata": {
  "kernelspec": {
   "display_name": "Python 3",
   "language": "python",
   "name": "python3"
  },
  "language_info": {
   "codemirror_mode": {
    "name": "ipython",
    "version": 3
   },
   "file_extension": ".py",
   "mimetype": "text/x-python",
   "name": "python",
   "nbconvert_exporter": "python",
   "pygments_lexer": "ipython3",
   "version": "3.10.14"
  }
 },
 "nbformat": 4,
 "nbformat_minor": 5
}
