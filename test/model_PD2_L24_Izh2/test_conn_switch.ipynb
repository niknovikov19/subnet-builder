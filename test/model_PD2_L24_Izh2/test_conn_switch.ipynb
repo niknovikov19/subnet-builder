{
 "cells": [
  {
   "cell_type": "code",
   "execution_count": null,
   "id": "debcb69c",
   "metadata": {},
   "outputs": [],
   "source": []
  }
 ],
 "metadata": {
  "language_info": {
   "name": "python"
  }
 },
 "nbformat": 4,
 "nbformat_minor": 5
}
